{
 "cells": [
  {
   "cell_type": "markdown",
   "metadata": {},
   "source": [
    "# Research on hypotheses that may help boost revenue\n",
    "> Purpose: to help the marketing department boost revenue."
   ]
  },
  {
   "cell_type": "markdown",
   "metadata": {},
   "source": [
    "# Summary\n",
    "\n",
    "ICE/RICE frameworks were applied to the hypotheses of interest and were prioritized to the respective frameworks.  According to the RICE scores, more users will be affected by the updates introduced in hypotheses 7, 2, 0, and 6. The ICE scores do not account for how many users the introduced updates will affect.\n",
    "\n",
    "Based on the A/B test results, the test should be stopped and group B should be considered the leader. To reiterate:\n",
    "+ Users in group B bring in the most money as compared to group A when looking at the cumulative revenue by group.\n",
    "+ The cumulative value of the groups' average purchase sizes fluctuates, however group B is shown to have the largest average order size.\n",
    "+ Group B has the greater conversion rate after gradually increasing and stabilizing at an almost steady value as compared to group A.\n",
    "+ Both the raw and filtered data indicate statistically significant differences between the groups with a relative conversion gain for group B, compared with group A, being 16% (raw) and 16.3% (filtered)."
   ]
  },
  {
   "cell_type": "markdown",
   "metadata": {},
   "source": [
    "## Open the data file and study the general information"
   ]
  },
  {
   "cell_type": "code",
   "execution_count": 1,
   "metadata": {},
   "outputs": [],
   "source": [
    "import pandas as pd\n",
    "pd.set_option('display.max_colwidth', 0)\n",
    "import numpy as np\n",
    "import datetime as dt\n",
    "import matplotlib.pyplot as plt\n",
    "import seaborn as sns\n",
    "from scipy import stats as st\n",
    "import warnings\n",
    "warnings.filterwarnings('ignore')\n",
    "\n",
    "try:\n",
    "    hypotheses = pd.read_csv(\n",
    "            '/datasets/hypotheses_us.csv', \n",
    "            sep=';')\n",
    "    orders = pd.read_csv(\n",
    "            '/datasets/orders_us.csv',\n",
    "            dtype={'group': 'category'},\n",
    "            parse_dates=['date'])\n",
    "    visits = pd.read_csv(\n",
    "            '/datasets/visits_us.csv',\n",
    "            dtype={'group': 'category'},\n",
    "            parse_dates=['date'])\n",
    "except:\n",
    "    hypotheses = pd.read_csv(\n",
    "            'hypotheses_us.csv', \n",
    "            sep=';')\n",
    "    orders = pd.read_csv(\n",
    "            'orders_us.csv',\n",
    "            dtype={'group': 'category'},\n",
    "            parse_dates=['date'])\n",
    "    visits = pd.read_csv(\n",
    "            'visits_us.csv',\n",
    "            dtype={'group': 'category'},\n",
    "            parse_dates=['date'])"
   ]
  },
  {
   "cell_type": "code",
   "execution_count": 2,
   "metadata": {},
   "outputs": [
    {
     "name": "stdout",
     "output_type": "stream",
     "text": [
      "<class 'pandas.core.frame.DataFrame'>\n",
      "RangeIndex: 9 entries, 0 to 8\n",
      "Data columns (total 5 columns):\n",
      "Hypothesis    9 non-null object\n",
      "Reach         9 non-null int64\n",
      "Impact        9 non-null int64\n",
      "Confidence    9 non-null int64\n",
      "Effort        9 non-null int64\n",
      "dtypes: int64(4), object(1)\n",
      "memory usage: 1.6 KB\n"
     ]
    },
    {
     "data": {
      "text/html": [
       "<div>\n",
       "<style scoped>\n",
       "    .dataframe tbody tr th:only-of-type {\n",
       "        vertical-align: middle;\n",
       "    }\n",
       "\n",
       "    .dataframe tbody tr th {\n",
       "        vertical-align: top;\n",
       "    }\n",
       "\n",
       "    .dataframe thead th {\n",
       "        text-align: right;\n",
       "    }\n",
       "</style>\n",
       "<table border=\"1\" class=\"dataframe\">\n",
       "  <thead>\n",
       "    <tr style=\"text-align: right;\">\n",
       "      <th></th>\n",
       "      <th>Hypothesis</th>\n",
       "      <th>Reach</th>\n",
       "      <th>Impact</th>\n",
       "      <th>Confidence</th>\n",
       "      <th>Effort</th>\n",
       "    </tr>\n",
       "  </thead>\n",
       "  <tbody>\n",
       "    <tr>\n",
       "      <td>0</td>\n",
       "      <td>Add two new channels for attracting traffic. This will bring 30% more users</td>\n",
       "      <td>3</td>\n",
       "      <td>10</td>\n",
       "      <td>8</td>\n",
       "      <td>6</td>\n",
       "    </tr>\n",
       "    <tr>\n",
       "      <td>1</td>\n",
       "      <td>Launch your own delivery service. This will shorten delivery time</td>\n",
       "      <td>2</td>\n",
       "      <td>5</td>\n",
       "      <td>4</td>\n",
       "      <td>10</td>\n",
       "    </tr>\n",
       "    <tr>\n",
       "      <td>2</td>\n",
       "      <td>Add product recommendation blocks to the store's site. This will increase conversion and average purchase size</td>\n",
       "      <td>8</td>\n",
       "      <td>3</td>\n",
       "      <td>7</td>\n",
       "      <td>3</td>\n",
       "    </tr>\n",
       "    <tr>\n",
       "      <td>3</td>\n",
       "      <td>Change the category structure. This will increase conversion since users will find the products they want more quickly</td>\n",
       "      <td>8</td>\n",
       "      <td>3</td>\n",
       "      <td>3</td>\n",
       "      <td>8</td>\n",
       "    </tr>\n",
       "    <tr>\n",
       "      <td>4</td>\n",
       "      <td>Change the background color on the main page. This will increase user engagement</td>\n",
       "      <td>3</td>\n",
       "      <td>1</td>\n",
       "      <td>1</td>\n",
       "      <td>1</td>\n",
       "    </tr>\n",
       "    <tr>\n",
       "      <td>5</td>\n",
       "      <td>Add a customer review page. This will increase the number of orders</td>\n",
       "      <td>3</td>\n",
       "      <td>2</td>\n",
       "      <td>2</td>\n",
       "      <td>3</td>\n",
       "    </tr>\n",
       "    <tr>\n",
       "      <td>6</td>\n",
       "      <td>Show banners with current offers and sales on the main page. This will boost conversion</td>\n",
       "      <td>5</td>\n",
       "      <td>3</td>\n",
       "      <td>8</td>\n",
       "      <td>3</td>\n",
       "    </tr>\n",
       "    <tr>\n",
       "      <td>7</td>\n",
       "      <td>Add a subscription form to all the main pages. This will help you compile a mailing list</td>\n",
       "      <td>10</td>\n",
       "      <td>7</td>\n",
       "      <td>8</td>\n",
       "      <td>5</td>\n",
       "    </tr>\n",
       "    <tr>\n",
       "      <td>8</td>\n",
       "      <td>Launch a promotion that gives users discounts on their birthdays</td>\n",
       "      <td>1</td>\n",
       "      <td>9</td>\n",
       "      <td>9</td>\n",
       "      <td>5</td>\n",
       "    </tr>\n",
       "  </tbody>\n",
       "</table>\n",
       "</div>"
      ],
      "text/plain": [
       "                                                                                                               Hypothesis  \\\n",
       "0  Add two new channels for attracting traffic. This will bring 30% more users                                              \n",
       "1  Launch your own delivery service. This will shorten delivery time                                                        \n",
       "2  Add product recommendation blocks to the store's site. This will increase conversion and average purchase size           \n",
       "3  Change the category structure. This will increase conversion since users will find the products they want more quickly   \n",
       "4  Change the background color on the main page. This will increase user engagement                                         \n",
       "5  Add a customer review page. This will increase the number of orders                                                      \n",
       "6  Show banners with current offers and sales on the main page. This will boost conversion                                  \n",
       "7  Add a subscription form to all the main pages. This will help you compile a mailing list                                 \n",
       "8  Launch a promotion that gives users discounts on their birthdays                                                         \n",
       "\n",
       "   Reach  Impact  Confidence  Effort  \n",
       "0  3      10      8           6       \n",
       "1  2      5       4           10      \n",
       "2  8      3       7           3       \n",
       "3  8      3       3           8       \n",
       "4  3      1       1           1       \n",
       "5  3      2       2           3       \n",
       "6  5      3       8           3       \n",
       "7  10     7       8           5       \n",
       "8  1      9       9           5       "
      ]
     },
     "execution_count": 2,
     "metadata": {},
     "output_type": "execute_result"
    }
   ],
   "source": [
    "hypotheses.info(memory_usage='deep')\n",
    "hypotheses"
   ]
  },
  {
   "cell_type": "code",
   "execution_count": 3,
   "metadata": {},
   "outputs": [
    {
     "name": "stdout",
     "output_type": "stream",
     "text": [
      "<class 'pandas.core.frame.DataFrame'>\n",
      "RangeIndex: 1197 entries, 0 to 1196\n",
      "Data columns (total 5 columns):\n",
      "transactionId    1197 non-null int64\n",
      "visitorId        1197 non-null int64\n",
      "date             1197 non-null datetime64[ns]\n",
      "revenue          1197 non-null float64\n",
      "group            1197 non-null category\n",
      "dtypes: category(1), datetime64[ns](1), float64(1), int64(2)\n",
      "memory usage: 38.9 KB\n"
     ]
    },
    {
     "data": {
      "text/html": [
       "<div>\n",
       "<style scoped>\n",
       "    .dataframe tbody tr th:only-of-type {\n",
       "        vertical-align: middle;\n",
       "    }\n",
       "\n",
       "    .dataframe tbody tr th {\n",
       "        vertical-align: top;\n",
       "    }\n",
       "\n",
       "    .dataframe thead th {\n",
       "        text-align: right;\n",
       "    }\n",
       "</style>\n",
       "<table border=\"1\" class=\"dataframe\">\n",
       "  <thead>\n",
       "    <tr style=\"text-align: right;\">\n",
       "      <th></th>\n",
       "      <th>transactionId</th>\n",
       "      <th>visitorId</th>\n",
       "      <th>date</th>\n",
       "      <th>revenue</th>\n",
       "      <th>group</th>\n",
       "    </tr>\n",
       "  </thead>\n",
       "  <tbody>\n",
       "    <tr>\n",
       "      <td>0</td>\n",
       "      <td>3667963787</td>\n",
       "      <td>3312258926</td>\n",
       "      <td>2019-08-15</td>\n",
       "      <td>30.4</td>\n",
       "      <td>B</td>\n",
       "    </tr>\n",
       "    <tr>\n",
       "      <td>1</td>\n",
       "      <td>2804400009</td>\n",
       "      <td>3642806036</td>\n",
       "      <td>2019-08-15</td>\n",
       "      <td>15.2</td>\n",
       "      <td>B</td>\n",
       "    </tr>\n",
       "    <tr>\n",
       "      <td>2</td>\n",
       "      <td>2961555356</td>\n",
       "      <td>4069496402</td>\n",
       "      <td>2019-08-15</td>\n",
       "      <td>10.2</td>\n",
       "      <td>A</td>\n",
       "    </tr>\n",
       "    <tr>\n",
       "      <td>3</td>\n",
       "      <td>3797467345</td>\n",
       "      <td>1196621759</td>\n",
       "      <td>2019-08-15</td>\n",
       "      <td>155.1</td>\n",
       "      <td>B</td>\n",
       "    </tr>\n",
       "    <tr>\n",
       "      <td>4</td>\n",
       "      <td>2282983706</td>\n",
       "      <td>2322279887</td>\n",
       "      <td>2019-08-15</td>\n",
       "      <td>40.5</td>\n",
       "      <td>B</td>\n",
       "    </tr>\n",
       "    <tr>\n",
       "      <td>5</td>\n",
       "      <td>182168103</td>\n",
       "      <td>935554773</td>\n",
       "      <td>2019-08-15</td>\n",
       "      <td>35.0</td>\n",
       "      <td>B</td>\n",
       "    </tr>\n",
       "    <tr>\n",
       "      <td>6</td>\n",
       "      <td>398296753</td>\n",
       "      <td>2900797465</td>\n",
       "      <td>2019-08-15</td>\n",
       "      <td>30.6</td>\n",
       "      <td>B</td>\n",
       "    </tr>\n",
       "    <tr>\n",
       "      <td>7</td>\n",
       "      <td>2626614568</td>\n",
       "      <td>78758296</td>\n",
       "      <td>2019-08-15</td>\n",
       "      <td>20.1</td>\n",
       "      <td>A</td>\n",
       "    </tr>\n",
       "    <tr>\n",
       "      <td>8</td>\n",
       "      <td>1576988021</td>\n",
       "      <td>295230930</td>\n",
       "      <td>2019-08-15</td>\n",
       "      <td>215.9</td>\n",
       "      <td>A</td>\n",
       "    </tr>\n",
       "    <tr>\n",
       "      <td>9</td>\n",
       "      <td>1506739906</td>\n",
       "      <td>1882260405</td>\n",
       "      <td>2019-08-15</td>\n",
       "      <td>30.5</td>\n",
       "      <td>B</td>\n",
       "    </tr>\n",
       "  </tbody>\n",
       "</table>\n",
       "</div>"
      ],
      "text/plain": [
       "   transactionId   visitorId       date  revenue group\n",
       "0  3667963787     3312258926 2019-08-15  30.4     B   \n",
       "1  2804400009     3642806036 2019-08-15  15.2     B   \n",
       "2  2961555356     4069496402 2019-08-15  10.2     A   \n",
       "3  3797467345     1196621759 2019-08-15  155.1    B   \n",
       "4  2282983706     2322279887 2019-08-15  40.5     B   \n",
       "5  182168103      935554773  2019-08-15  35.0     B   \n",
       "6  398296753      2900797465 2019-08-15  30.6     B   \n",
       "7  2626614568     78758296   2019-08-15  20.1     A   \n",
       "8  1576988021     295230930  2019-08-15  215.9    A   \n",
       "9  1506739906     1882260405 2019-08-15  30.5     B   "
      ]
     },
     "execution_count": 3,
     "metadata": {},
     "output_type": "execute_result"
    }
   ],
   "source": [
    "orders.info(memory_usage='deep')\n",
    "orders.head(10)"
   ]
  },
  {
   "cell_type": "code",
   "execution_count": 4,
   "metadata": {},
   "outputs": [
    {
     "name": "stdout",
     "output_type": "stream",
     "text": [
      "<class 'pandas.core.frame.DataFrame'>\n",
      "RangeIndex: 62 entries, 0 to 61\n",
      "Data columns (total 3 columns):\n",
      "date      62 non-null datetime64[ns]\n",
      "group     62 non-null category\n",
      "visits    62 non-null int64\n",
      "dtypes: category(1), datetime64[ns](1), int64(1)\n",
      "memory usage: 1.3 KB\n"
     ]
    },
    {
     "data": {
      "text/html": [
       "<div>\n",
       "<style scoped>\n",
       "    .dataframe tbody tr th:only-of-type {\n",
       "        vertical-align: middle;\n",
       "    }\n",
       "\n",
       "    .dataframe tbody tr th {\n",
       "        vertical-align: top;\n",
       "    }\n",
       "\n",
       "    .dataframe thead th {\n",
       "        text-align: right;\n",
       "    }\n",
       "</style>\n",
       "<table border=\"1\" class=\"dataframe\">\n",
       "  <thead>\n",
       "    <tr style=\"text-align: right;\">\n",
       "      <th></th>\n",
       "      <th>date</th>\n",
       "      <th>group</th>\n",
       "      <th>visits</th>\n",
       "    </tr>\n",
       "  </thead>\n",
       "  <tbody>\n",
       "    <tr>\n",
       "      <td>0</td>\n",
       "      <td>2019-08-01</td>\n",
       "      <td>A</td>\n",
       "      <td>719</td>\n",
       "    </tr>\n",
       "    <tr>\n",
       "      <td>1</td>\n",
       "      <td>2019-08-02</td>\n",
       "      <td>A</td>\n",
       "      <td>619</td>\n",
       "    </tr>\n",
       "    <tr>\n",
       "      <td>2</td>\n",
       "      <td>2019-08-03</td>\n",
       "      <td>A</td>\n",
       "      <td>507</td>\n",
       "    </tr>\n",
       "    <tr>\n",
       "      <td>3</td>\n",
       "      <td>2019-08-04</td>\n",
       "      <td>A</td>\n",
       "      <td>717</td>\n",
       "    </tr>\n",
       "    <tr>\n",
       "      <td>4</td>\n",
       "      <td>2019-08-05</td>\n",
       "      <td>A</td>\n",
       "      <td>756</td>\n",
       "    </tr>\n",
       "    <tr>\n",
       "      <td>5</td>\n",
       "      <td>2019-08-06</td>\n",
       "      <td>A</td>\n",
       "      <td>667</td>\n",
       "    </tr>\n",
       "    <tr>\n",
       "      <td>6</td>\n",
       "      <td>2019-08-07</td>\n",
       "      <td>A</td>\n",
       "      <td>644</td>\n",
       "    </tr>\n",
       "    <tr>\n",
       "      <td>7</td>\n",
       "      <td>2019-08-08</td>\n",
       "      <td>A</td>\n",
       "      <td>610</td>\n",
       "    </tr>\n",
       "    <tr>\n",
       "      <td>8</td>\n",
       "      <td>2019-08-09</td>\n",
       "      <td>A</td>\n",
       "      <td>617</td>\n",
       "    </tr>\n",
       "    <tr>\n",
       "      <td>9</td>\n",
       "      <td>2019-08-10</td>\n",
       "      <td>A</td>\n",
       "      <td>406</td>\n",
       "    </tr>\n",
       "  </tbody>\n",
       "</table>\n",
       "</div>"
      ],
      "text/plain": [
       "        date group  visits\n",
       "0 2019-08-01  A     719   \n",
       "1 2019-08-02  A     619   \n",
       "2 2019-08-03  A     507   \n",
       "3 2019-08-04  A     717   \n",
       "4 2019-08-05  A     756   \n",
       "5 2019-08-06  A     667   \n",
       "6 2019-08-07  A     644   \n",
       "7 2019-08-08  A     610   \n",
       "8 2019-08-09  A     617   \n",
       "9 2019-08-10  A     406   "
      ]
     },
     "execution_count": 4,
     "metadata": {},
     "output_type": "execute_result"
    }
   ],
   "source": [
    "visits.info(memory_usage='deep')\n",
    "visits.head(10)"
   ]
  },
  {
   "cell_type": "markdown",
   "metadata": {},
   "source": [
    "### Conclusion\n",
    "The datasets were optimized as best as they could be. The *date* columns were changed to a date type, and the *group* columns were changed to a category data type."
   ]
  },
  {
   "cell_type": "markdown",
   "metadata": {},
   "source": [
    "## Data preparation"
   ]
  },
  {
   "cell_type": "code",
   "execution_count": 5,
   "metadata": {},
   "outputs": [
    {
     "name": "stdout",
     "output_type": "stream",
     "text": [
      "Proportion of missing values for hypotheses dataset:\n",
      "Hypothesis    0.0\n",
      "Reach         0.0\n",
      "Impact        0.0\n",
      "Confidence    0.0\n",
      "Effort        0.0\n",
      "dtype: float64\n",
      "\n",
      "Proportion of missing values for orders dataset:\n",
      "transactionId    0.0\n",
      "visitorId        0.0\n",
      "date             0.0\n",
      "revenue          0.0\n",
      "group            0.0\n",
      "dtype: float64\n",
      "\n",
      "Proportion of missing values for visits dataset:\n",
      "date      0.0\n",
      "group     0.0\n",
      "visits    0.0\n",
      "dtype: float64\n"
     ]
    }
   ],
   "source": [
    "# determining proportion of missing values for each dataset\n",
    "print('Proportion of missing values for hypotheses dataset:')\n",
    "print(hypotheses.isna().sum() / hypotheses.shape[0])\n",
    "print()\n",
    "print('Proportion of missing values for orders dataset:')\n",
    "print(orders.isna().sum() / orders.shape[0])\n",
    "print()\n",
    "print('Proportion of missing values for visits dataset:')\n",
    "print(visits.isna().sum() / visits.shape[0])"
   ]
  },
  {
   "cell_type": "code",
   "execution_count": 6,
   "metadata": {},
   "outputs": [
    {
     "name": "stdout",
     "output_type": "stream",
     "text": [
      "hypotheses duplicates:\n",
      "0\n",
      "\n",
      "orders visitor ID duplicates:\n",
      "166\n",
      "\n",
      "visits duplicates:\n",
      "0\n"
     ]
    }
   ],
   "source": [
    "# checking for duplicates\n",
    "print('hypotheses duplicates:')\n",
    "print(hypotheses.duplicated().sum())\n",
    "print()\n",
    "print('orders visitor ID duplicates:')\n",
    "print(orders['visitorId'].duplicated().sum())\n",
    "print()\n",
    "print('visits duplicates:')\n",
    "print(visits.duplicated().sum())"
   ]
  },
  {
   "cell_type": "code",
   "execution_count": 7,
   "metadata": {},
   "outputs": [],
   "source": [
    "dup_visitors = orders.groupby('visitorId').agg({'group': 'nunique'})\n",
    "dup_visitors = dup_visitors[dup_visitors['group']>1]\n",
    "dup_visitors = dup_visitors.reset_index()\n",
    "to_drop = dup_visitors['visitorId']"
   ]
  },
  {
   "cell_type": "code",
   "execution_count": 8,
   "metadata": {},
   "outputs": [],
   "source": [
    "orders = orders[~orders['visitorId'].isin(to_drop)]"
   ]
  },
  {
   "cell_type": "markdown",
   "metadata": {},
   "source": [
    "### Conclusion\n",
    "\n",
    "There are no missing values discernible for all three datasets. The duplicated visitors that might have gotten into both group A and B have been removed."
   ]
  },
  {
   "cell_type": "markdown",
   "metadata": {},
   "source": [
    "## Prioritizing Hypotheses"
   ]
  },
  {
   "cell_type": "code",
   "execution_count": 9,
   "metadata": {},
   "outputs": [
    {
     "data": {
      "text/html": [
       "<div>\n",
       "<style scoped>\n",
       "    .dataframe tbody tr th:only-of-type {\n",
       "        vertical-align: middle;\n",
       "    }\n",
       "\n",
       "    .dataframe tbody tr th {\n",
       "        vertical-align: top;\n",
       "    }\n",
       "\n",
       "    .dataframe thead th {\n",
       "        text-align: right;\n",
       "    }\n",
       "</style>\n",
       "<table border=\"1\" class=\"dataframe\">\n",
       "  <thead>\n",
       "    <tr style=\"text-align: right;\">\n",
       "      <th></th>\n",
       "      <th>Hypothesis</th>\n",
       "      <th>Reach</th>\n",
       "      <th>Impact</th>\n",
       "      <th>Confidence</th>\n",
       "      <th>Effort</th>\n",
       "      <th>ice_score</th>\n",
       "      <th>rice_score</th>\n",
       "    </tr>\n",
       "  </thead>\n",
       "  <tbody>\n",
       "    <tr>\n",
       "      <td>8</td>\n",
       "      <td>Launch a promotion that gives users discounts on their birthdays</td>\n",
       "      <td>1</td>\n",
       "      <td>9</td>\n",
       "      <td>9</td>\n",
       "      <td>5</td>\n",
       "      <td>16.200000</td>\n",
       "      <td>16.2</td>\n",
       "    </tr>\n",
       "    <tr>\n",
       "      <td>0</td>\n",
       "      <td>Add two new channels for attracting traffic. This will bring 30% more users</td>\n",
       "      <td>3</td>\n",
       "      <td>10</td>\n",
       "      <td>8</td>\n",
       "      <td>6</td>\n",
       "      <td>13.333333</td>\n",
       "      <td>40.0</td>\n",
       "    </tr>\n",
       "    <tr>\n",
       "      <td>7</td>\n",
       "      <td>Add a subscription form to all the main pages. This will help you compile a mailing list</td>\n",
       "      <td>10</td>\n",
       "      <td>7</td>\n",
       "      <td>8</td>\n",
       "      <td>5</td>\n",
       "      <td>11.200000</td>\n",
       "      <td>112.0</td>\n",
       "    </tr>\n",
       "    <tr>\n",
       "      <td>6</td>\n",
       "      <td>Show banners with current offers and sales on the main page. This will boost conversion</td>\n",
       "      <td>5</td>\n",
       "      <td>3</td>\n",
       "      <td>8</td>\n",
       "      <td>3</td>\n",
       "      <td>8.000000</td>\n",
       "      <td>40.0</td>\n",
       "    </tr>\n",
       "    <tr>\n",
       "      <td>2</td>\n",
       "      <td>Add product recommendation blocks to the store's site. This will increase conversion and average purchase size</td>\n",
       "      <td>8</td>\n",
       "      <td>3</td>\n",
       "      <td>7</td>\n",
       "      <td>3</td>\n",
       "      <td>7.000000</td>\n",
       "      <td>56.0</td>\n",
       "    </tr>\n",
       "    <tr>\n",
       "      <td>1</td>\n",
       "      <td>Launch your own delivery service. This will shorten delivery time</td>\n",
       "      <td>2</td>\n",
       "      <td>5</td>\n",
       "      <td>4</td>\n",
       "      <td>10</td>\n",
       "      <td>2.000000</td>\n",
       "      <td>4.0</td>\n",
       "    </tr>\n",
       "    <tr>\n",
       "      <td>5</td>\n",
       "      <td>Add a customer review page. This will increase the number of orders</td>\n",
       "      <td>3</td>\n",
       "      <td>2</td>\n",
       "      <td>2</td>\n",
       "      <td>3</td>\n",
       "      <td>1.333333</td>\n",
       "      <td>4.0</td>\n",
       "    </tr>\n",
       "    <tr>\n",
       "      <td>3</td>\n",
       "      <td>Change the category structure. This will increase conversion since users will find the products they want more quickly</td>\n",
       "      <td>8</td>\n",
       "      <td>3</td>\n",
       "      <td>3</td>\n",
       "      <td>8</td>\n",
       "      <td>1.125000</td>\n",
       "      <td>9.0</td>\n",
       "    </tr>\n",
       "    <tr>\n",
       "      <td>4</td>\n",
       "      <td>Change the background color on the main page. This will increase user engagement</td>\n",
       "      <td>3</td>\n",
       "      <td>1</td>\n",
       "      <td>1</td>\n",
       "      <td>1</td>\n",
       "      <td>1.000000</td>\n",
       "      <td>3.0</td>\n",
       "    </tr>\n",
       "  </tbody>\n",
       "</table>\n",
       "</div>"
      ],
      "text/plain": [
       "                                                                                                               Hypothesis  \\\n",
       "8  Launch a promotion that gives users discounts on their birthdays                                                         \n",
       "0  Add two new channels for attracting traffic. This will bring 30% more users                                              \n",
       "7  Add a subscription form to all the main pages. This will help you compile a mailing list                                 \n",
       "6  Show banners with current offers and sales on the main page. This will boost conversion                                  \n",
       "2  Add product recommendation blocks to the store's site. This will increase conversion and average purchase size           \n",
       "1  Launch your own delivery service. This will shorten delivery time                                                        \n",
       "5  Add a customer review page. This will increase the number of orders                                                      \n",
       "3  Change the category structure. This will increase conversion since users will find the products they want more quickly   \n",
       "4  Change the background color on the main page. This will increase user engagement                                         \n",
       "\n",
       "   Reach  Impact  Confidence  Effort  ice_score  rice_score  \n",
       "8  1      9       9           5       16.200000  16.2        \n",
       "0  3      10      8           6       13.333333  40.0        \n",
       "7  10     7       8           5       11.200000  112.0       \n",
       "6  5      3       8           3       8.000000   40.0        \n",
       "2  8      3       7           3       7.000000   56.0        \n",
       "1  2      5       4           10      2.000000   4.0         \n",
       "5  3      2       2           3       1.333333   4.0         \n",
       "3  8      3       3           8       1.125000   9.0         \n",
       "4  3      1       1           1       1.000000   3.0         "
      ]
     },
     "execution_count": 9,
     "metadata": {},
     "output_type": "execute_result"
    }
   ],
   "source": [
    "# applying the ICE/RICE framework to prioritize hypotheses\n",
    "hypotheses['ice_score'] = (hypotheses['Impact']*hypotheses['Confidence']) / hypotheses['Effort']\n",
    "hypotheses['rice_score'] = (hypotheses['Reach']*hypotheses['Impact']*hypotheses['Confidence']) / hypotheses['Effort']\n",
    "hypotheses_ice = hypotheses.sort_values(by='ice_score', ascending=False)\n",
    "hypotheses_ice"
   ]
  },
  {
   "cell_type": "code",
   "execution_count": 10,
   "metadata": {},
   "outputs": [
    {
     "data": {
      "text/html": [
       "<div>\n",
       "<style scoped>\n",
       "    .dataframe tbody tr th:only-of-type {\n",
       "        vertical-align: middle;\n",
       "    }\n",
       "\n",
       "    .dataframe tbody tr th {\n",
       "        vertical-align: top;\n",
       "    }\n",
       "\n",
       "    .dataframe thead th {\n",
       "        text-align: right;\n",
       "    }\n",
       "</style>\n",
       "<table border=\"1\" class=\"dataframe\">\n",
       "  <thead>\n",
       "    <tr style=\"text-align: right;\">\n",
       "      <th></th>\n",
       "      <th>Hypothesis</th>\n",
       "      <th>Reach</th>\n",
       "      <th>Impact</th>\n",
       "      <th>Confidence</th>\n",
       "      <th>Effort</th>\n",
       "      <th>ice_score</th>\n",
       "      <th>rice_score</th>\n",
       "    </tr>\n",
       "  </thead>\n",
       "  <tbody>\n",
       "    <tr>\n",
       "      <td>7</td>\n",
       "      <td>Add a subscription form to all the main pages. This will help you compile a mailing list</td>\n",
       "      <td>10</td>\n",
       "      <td>7</td>\n",
       "      <td>8</td>\n",
       "      <td>5</td>\n",
       "      <td>11.200000</td>\n",
       "      <td>112.0</td>\n",
       "    </tr>\n",
       "    <tr>\n",
       "      <td>2</td>\n",
       "      <td>Add product recommendation blocks to the store's site. This will increase conversion and average purchase size</td>\n",
       "      <td>8</td>\n",
       "      <td>3</td>\n",
       "      <td>7</td>\n",
       "      <td>3</td>\n",
       "      <td>7.000000</td>\n",
       "      <td>56.0</td>\n",
       "    </tr>\n",
       "    <tr>\n",
       "      <td>0</td>\n",
       "      <td>Add two new channels for attracting traffic. This will bring 30% more users</td>\n",
       "      <td>3</td>\n",
       "      <td>10</td>\n",
       "      <td>8</td>\n",
       "      <td>6</td>\n",
       "      <td>13.333333</td>\n",
       "      <td>40.0</td>\n",
       "    </tr>\n",
       "    <tr>\n",
       "      <td>6</td>\n",
       "      <td>Show banners with current offers and sales on the main page. This will boost conversion</td>\n",
       "      <td>5</td>\n",
       "      <td>3</td>\n",
       "      <td>8</td>\n",
       "      <td>3</td>\n",
       "      <td>8.000000</td>\n",
       "      <td>40.0</td>\n",
       "    </tr>\n",
       "    <tr>\n",
       "      <td>8</td>\n",
       "      <td>Launch a promotion that gives users discounts on their birthdays</td>\n",
       "      <td>1</td>\n",
       "      <td>9</td>\n",
       "      <td>9</td>\n",
       "      <td>5</td>\n",
       "      <td>16.200000</td>\n",
       "      <td>16.2</td>\n",
       "    </tr>\n",
       "    <tr>\n",
       "      <td>3</td>\n",
       "      <td>Change the category structure. This will increase conversion since users will find the products they want more quickly</td>\n",
       "      <td>8</td>\n",
       "      <td>3</td>\n",
       "      <td>3</td>\n",
       "      <td>8</td>\n",
       "      <td>1.125000</td>\n",
       "      <td>9.0</td>\n",
       "    </tr>\n",
       "    <tr>\n",
       "      <td>1</td>\n",
       "      <td>Launch your own delivery service. This will shorten delivery time</td>\n",
       "      <td>2</td>\n",
       "      <td>5</td>\n",
       "      <td>4</td>\n",
       "      <td>10</td>\n",
       "      <td>2.000000</td>\n",
       "      <td>4.0</td>\n",
       "    </tr>\n",
       "    <tr>\n",
       "      <td>5</td>\n",
       "      <td>Add a customer review page. This will increase the number of orders</td>\n",
       "      <td>3</td>\n",
       "      <td>2</td>\n",
       "      <td>2</td>\n",
       "      <td>3</td>\n",
       "      <td>1.333333</td>\n",
       "      <td>4.0</td>\n",
       "    </tr>\n",
       "    <tr>\n",
       "      <td>4</td>\n",
       "      <td>Change the background color on the main page. This will increase user engagement</td>\n",
       "      <td>3</td>\n",
       "      <td>1</td>\n",
       "      <td>1</td>\n",
       "      <td>1</td>\n",
       "      <td>1.000000</td>\n",
       "      <td>3.0</td>\n",
       "    </tr>\n",
       "  </tbody>\n",
       "</table>\n",
       "</div>"
      ],
      "text/plain": [
       "                                                                                                               Hypothesis  \\\n",
       "7  Add a subscription form to all the main pages. This will help you compile a mailing list                                 \n",
       "2  Add product recommendation blocks to the store's site. This will increase conversion and average purchase size           \n",
       "0  Add two new channels for attracting traffic. This will bring 30% more users                                              \n",
       "6  Show banners with current offers and sales on the main page. This will boost conversion                                  \n",
       "8  Launch a promotion that gives users discounts on their birthdays                                                         \n",
       "3  Change the category structure. This will increase conversion since users will find the products they want more quickly   \n",
       "1  Launch your own delivery service. This will shorten delivery time                                                        \n",
       "5  Add a customer review page. This will increase the number of orders                                                      \n",
       "4  Change the background color on the main page. This will increase user engagement                                         \n",
       "\n",
       "   Reach  Impact  Confidence  Effort  ice_score  rice_score  \n",
       "7  10     7       8           5       11.200000  112.0       \n",
       "2  8      3       7           3       7.000000   56.0        \n",
       "0  3      10      8           6       13.333333  40.0        \n",
       "6  5      3       8           3       8.000000   40.0        \n",
       "8  1      9       9           5       16.200000  16.2        \n",
       "3  8      3       3           8       1.125000   9.0         \n",
       "1  2      5       4           10      2.000000   4.0         \n",
       "5  3      2       2           3       1.333333   4.0         \n",
       "4  3      1       1           1       1.000000   3.0         "
      ]
     },
     "execution_count": 10,
     "metadata": {},
     "output_type": "execute_result"
    }
   ],
   "source": [
    "hypotheses_rice = hypotheses.sort_values(by='rice_score', ascending=False)\n",
    "hypotheses_rice"
   ]
  },
  {
   "cell_type": "code",
   "execution_count": 11,
   "metadata": {},
   "outputs": [
    {
     "data": {
      "image/png": "[encoded data removed]",
      "text/plain": [
       "<Figure size 432x288 with 1 Axes>"
      ]
     },
     "metadata": {
      "needs_background": "light"
     },
     "output_type": "display_data"
    }
   ],
   "source": [
    "ice = [13.3, 2, 7, 1.1, 1, 1.3, 8, 11.2, 16.2]\n",
    "rice = [40, 4, 56, 9, 3, 4, 40, 112, 16.2]\n",
    "hyp_index = [0, 1, 2, 3, 4, 5, 6, 7, 8]\n",
    "\n",
    "fig, ax = plt.subplots()\n",
    "ax.scatter(ice, rice)\n",
    "\n",
    "for i, txt in enumerate(hyp_index):\n",
    "    ax.annotate(txt, (ice[i], rice[i]), fontsize=13)\n",
    "\n",
    "plt.title('ICE by RICE Scores According to Hypothesis Index')\n",
    "ax.set(xlabel=\"ICE Score\", ylabel=\"RICE Score\")\n",
    "plt.show()"
   ]
  },
  {
   "cell_type": "markdown",
   "metadata": {},
   "source": [
    "**Figure 1: ICE by RICE Scores According to Hypothesis Index**\n",
    "\n",
    "*Description:* Applying the ICE/RICE frameworks and the reflected hypotheses indexes."
   ]
  },
  {
   "cell_type": "markdown",
   "metadata": {},
   "source": [
    "### Conclusion\n",
    "Applying the ICE framework, the hypotheses were prioritized as follows: 8, 0, 7, 6, 2, 1, 5, 3, 4. Applying the RICE framework, the hypotheses were then prioritized as such: 7, 2, 0, 6, 8, 3, 1, 5, 4. According to the RICE scores, more users will be affected by the updates introduced in hypotheses 7, 2, 0, and 6. The ICE scores do not account for how many users the introduced updates will affect."
   ]
  },
  {
   "cell_type": "markdown",
   "metadata": {},
   "source": [
    "## A/B Test Analysis"
   ]
  },
  {
   "cell_type": "code",
   "execution_count": 12,
   "metadata": {
    "scrolled": false
   },
   "outputs": [
    {
     "data": {
      "image/png": "[encoded data removed]",
      "text/plain": [
       "<Figure size 432x288 with 1 Axes>"
      ]
     },
     "metadata": {
      "needs_background": "light"
     },
     "output_type": "display_data"
    }
   ],
   "source": [
    "orders['group'] = orders['group'].cat.as_ordered()\n",
    "visits['group'] = visits['group'].cat.as_ordered()\n",
    "\n",
    "datesGroups = orders[['date', 'group']].drop_duplicates()\n",
    "\n",
    "ordersAggregated = orders.apply(\n",
    "    lambda x: orders[\n",
    "        np.logical_and(\n",
    "            orders['date'] <= x['date'], orders['group'] == x['group']\n",
    "        )\n",
    "    ].agg(\n",
    "        {\n",
    "            'date': 'max',\n",
    "            'group': 'max',\n",
    "            'transactionId': pd.Series.nunique,\n",
    "            'visitorId': pd.Series.nunique,\n",
    "            'revenue': 'sum',\n",
    "        }\n",
    "    ),\n",
    "    axis=1,\n",
    ").sort_values(by=['date', 'group'])\n",
    "ordersAggregated.head(10)\n",
    "\n",
    "visitsAggregated = datesGroups.apply(\n",
    "    lambda x: visits[\n",
    "        np.logical_and(\n",
    "            visits['date'] <= x['date'], visits['group'] == x['group']\n",
    "        )\n",
    "    ].agg({'date': 'max', 'group': 'max', 'visits': 'sum'}),\n",
    "    axis=1,\n",
    ").sort_values(by=['date', 'group'])\n",
    "\n",
    "cumulativeData = ordersAggregated.merge(\n",
    "    visitsAggregated, left_on=['date', 'group'], right_on=['date', 'group']\n",
    ")\n",
    "cumulativeRevenueA = ordersAggregated[ordersAggregated['group'] == 'A'][\n",
    "    ['date', 'revenue', 'transactionId']\n",
    "]\n",
    "cumulativeRevenueB = ordersAggregated[ordersAggregated['group'] == 'B'][\n",
    "    ['date', 'revenue', 'transactionId']\n",
    "]\n",
    "\n",
    "plt.plot(cumulativeRevenueA['date'], cumulativeRevenueA['revenue'], label='A')\n",
    "plt.plot(cumulativeRevenueB['date'], cumulativeRevenueB['revenue'], label='B')\n",
    "plt.xticks(rotation=45)\n",
    "plt.title(\"Cumulative Revenue by Group\")\n",
    "plt.ylabel('Revenue')\n",
    "plt.xlabel('Date')\n",
    "plt.legend()\n",
    "plt.show()"
   ]
  },
  {
   "cell_type": "markdown",
   "metadata": {},
   "source": [
    "**Figure 2: Cumulative Revenue by Group**\n",
    "\n",
    "*Description:* Users in group B bring in the most money as compared to group A."
   ]
  },
  {
   "cell_type": "code",
   "execution_count": 13,
   "metadata": {},
   "outputs": [
    {
     "data": {
      "image/png": "[encoded data removed]",
      "text/plain": [
       "<Figure size 432x288 with 1 Axes>"
      ]
     },
     "metadata": {
      "needs_background": "light"
     },
     "output_type": "display_data"
    }
   ],
   "source": [
    "plt.plot(\n",
    "    cumulativeRevenueA['date'],\n",
    "    cumulativeRevenueA['revenue'] / cumulativeRevenueA['transactionId'],\n",
    "    label='A',\n",
    ")\n",
    "plt.plot(\n",
    "    cumulativeRevenueB['date'],\n",
    "    cumulativeRevenueB['revenue'] / cumulativeRevenueB['transactionId'],\n",
    "    label='B',\n",
    ")\n",
    "plt.xticks(rotation=45)\n",
    "plt.title(\"Cumulative Average Order Size by Group\")\n",
    "plt.ylabel('Order Size')\n",
    "plt.xlabel('Date')\n",
    "plt.legend()\n",
    "plt.show()"
   ]
  },
  {
   "cell_type": "markdown",
   "metadata": {},
   "source": [
    "**Figure 3: Cumulative Average Order Size by Group**\n",
    "\n",
    "*Description:* The cumulative value of the groups' average purchase sizes is fluctuating."
   ]
  },
  {
   "cell_type": "code",
   "execution_count": 14,
   "metadata": {},
   "outputs": [
    {
     "data": {
      "image/png": "[encoded data removed]",
      "text/plain": [
       "<Figure size 432x288 with 1 Axes>"
      ]
     },
     "metadata": {
      "needs_background": "light"
     },
     "output_type": "display_data"
    }
   ],
   "source": [
    "mergedCumulativeRevenue = cumulativeRevenueA.merge(\n",
    "    cumulativeRevenueB,\n",
    "    left_on='date',\n",
    "    right_on='date',\n",
    "    how='left',\n",
    "    suffixes=['A', 'B'],\n",
    ")\n",
    "plt.plot(\n",
    "    mergedCumulativeRevenue['date'],\n",
    "    (mergedCumulativeRevenue['revenueB'] / mergedCumulativeRevenue['transactionIdB'])\n",
    "    / (\n",
    "        mergedCumulativeRevenue['revenueA']\n",
    "        / mergedCumulativeRevenue['transactionIdA']\n",
    "    )\n",
    "    - 1,\n",
    ")\n",
    "plt.axhline(y=0, color='black', linestyle='--')\n",
    "plt.xticks(rotation=45)\n",
    "plt.title(\"Relative Difference in Cumulative Average Order Size by Group\")\n",
    "plt.ylabel('Relative Difference')\n",
    "plt.xlabel('Date')\n",
    "plt.show()"
   ]
  },
  {
   "cell_type": "markdown",
   "metadata": {},
   "source": [
    "**Figure 4: Relative Difference in Cumulative Average Order Size by Group**\n",
    "\n",
    "*Description:* There were several sudden and considerable changes that might have something to do with abnormally large purchases."
   ]
  },
  {
   "cell_type": "code",
   "execution_count": 15,
   "metadata": {},
   "outputs": [
    {
     "data": {
      "image/png": "[encoded data removed]",
      "text/plain": [
       "<Figure size 432x288 with 1 Axes>"
      ]
     },
     "metadata": {
      "needs_background": "light"
     },
     "output_type": "display_data"
    }
   ],
   "source": [
    "cumulativeData['conversion'] = (\n",
    "    cumulativeData['transactionId'] / cumulativeData['visits']\n",
    ")\n",
    "\n",
    "cumulativeDataA = cumulativeData[cumulativeData['group'] == 'A']\n",
    "cumulativeDataB = cumulativeData[cumulativeData['group'] == 'B']\n",
    "\n",
    "plt.plot(cumulativeDataA['date'], cumulativeDataA['conversion'], label='A')\n",
    "plt.plot(cumulativeDataB['date'], cumulativeDataB['conversion'], label='B')\n",
    "plt.xticks(rotation=45)\n",
    "plt.title(\"Conversion Rate (Orders:Number of Visits per Day) per Group\")\n",
    "plt.ylabel('Ratio')\n",
    "plt.xlabel('Date')\n",
    "plt.legend()\n",
    "plt.axis([\"2019-07-31\", '2019-09-02', 0, 0.05])\n",
    "plt.show()"
   ]
  },
  {
   "cell_type": "markdown",
   "metadata": {},
   "source": [
    "**Figure 5: Conversion Rate (Orders:Number of Visits per Day) per Group**\n",
    "\n",
    "*Description:* At the beginning of the test group A had a higher conversion rate, but group B gradually gained and stabilized at an almost steady value."
   ]
  },
  {
   "cell_type": "code",
   "execution_count": 16,
   "metadata": {},
   "outputs": [
    {
     "name": "stdout",
     "output_type": "stream",
     "text": [
      "         userId  orders\n",
      "908  3967698036  3     \n",
      "55   249864742   3     \n",
      "478  2108163459  3     \n",
      "687  2988190573  3     \n",
      "890  3908431265  3     \n",
      "138  611059232   3     \n",
      "632  2742574263  3     \n",
      "157  678354126   2     \n",
      "323  1404560065  2     \n",
      "452  1985475298  2     \n"
     ]
    },
    {
     "data": {
      "image/png": "[encoded data removed]",
      "text/plain": [
       "<Figure size 432x288 with 1 Axes>"
      ]
     },
     "metadata": {
      "needs_background": "light"
     },
     "output_type": "display_data"
    }
   ],
   "source": [
    "ordersByUsers = (\n",
    "    orders.drop(['group', 'revenue', 'date'], axis=1)\n",
    "    .groupby('visitorId', as_index=False)\n",
    "    .agg({'transactionId': pd.Series.nunique})\n",
    ")\n",
    "ordersByUsers.columns = ['userId', 'orders']\n",
    "\n",
    "print(ordersByUsers.sort_values(by='orders', ascending=False).head(10))\n",
    "\n",
    "# the range of numbers from 0 to the number of observations in ordersByUsers\n",
    "x_values = pd.Series(range(0, len(ordersByUsers)))\n",
    "\n",
    "plt.scatter(x_values, ordersByUsers['orders'])\n",
    "plt.title(\"Scatter Chart of the Number of Orders per User\")\n",
    "plt.ylabel('Number of Orders')\n",
    "plt.xlabel('Number of Observations')\n",
    "plt.show()"
   ]
  },
  {
   "cell_type": "markdown",
   "metadata": {},
   "source": [
    "**Figure 6: Scatter Chart of the Number of Orders per User**\n",
    "\n",
    "*Description:* There is a small number of users with more than one order."
   ]
  },
  {
   "cell_type": "code",
   "execution_count": 17,
   "metadata": {},
   "outputs": [
    {
     "name": "stdout",
     "output_type": "stream",
     "text": [
      "95th and 99th percentiles for the number of orders per user:\n",
      "[1. 2.]\n"
     ]
    }
   ],
   "source": [
    "print('95th and 99th percentiles for the number of orders per user:')\n",
    "print(np.percentile(ordersByUsers['orders'], [95, 99]))"
   ]
  },
  {
   "cell_type": "markdown",
   "metadata": {},
   "source": [
    "**Interpretation:** No more than 5% of users placed more than one order, and no more than 1% of users made more than two orders. The point at which a data point becomes an anomaly is when a user makes two or more orders."
   ]
  },
  {
   "cell_type": "code",
   "execution_count": 18,
   "metadata": {},
   "outputs": [
    {
     "name": "stdout",
     "output_type": "stream",
     "text": [
      "      transactionId   visitorId       date  revenue group\n",
      "425   590470918      1920142716 2019-08-19  19920.4  B   \n",
      "1196  3936777065     2108080724 2019-08-15  3120.1   B   \n",
      "1136  666610489      1307669133 2019-08-13  1425.8   A   \n",
      "744   3668308183     888512513  2019-08-27  1335.6   B   \n",
      "743   3603576309     4133034833 2019-08-09  1050.0   A   \n",
      "1103  1348774318     1164614297 2019-08-12  1025.8   A   \n",
      "1099  316924019      148427295  2019-08-12  1015.9   A   \n",
      "949   1347999392     887908475  2019-08-21  930.0    A   \n",
      "940   2420050534     4003628586 2019-08-08  905.8    B   \n",
      "613   4071177889     3931967268 2019-08-07  830.3    B   \n"
     ]
    },
    {
     "data": {
      "image/png": "[encoded data removed]",
      "text/plain": [
       "<Figure size 432x288 with 1 Axes>"
      ]
     },
     "metadata": {
      "needs_background": "light"
     },
     "output_type": "display_data"
    }
   ],
   "source": [
    "print(orders.sort_values(by='revenue',ascending=False).head(10))\n",
    "\n",
    "x_values = pd.Series(range(0,len(orders['revenue'])))\n",
    "\n",
    "plt.scatter(x_values, orders['revenue'])\n",
    "plt.title(\"Scatter Chart of Order Prices\")\n",
    "plt.ylabel('Order Prices')\n",
    "plt.xlabel('Number of Observations')\n",
    "plt.show()"
   ]
  },
  {
   "cell_type": "markdown",
   "metadata": {},
   "source": [
    "**Figure 7: Scatter Chart of Order Prices**\n",
    "\n",
    "*Description:* There are not many orders above \\\\$2500. There are outliers about $2600 and \\\\$20,000."
   ]
  },
  {
   "cell_type": "code",
   "execution_count": 19,
   "metadata": {},
   "outputs": [
    {
     "name": "stdout",
     "output_type": "stream",
     "text": [
      "95th and 99th percentiles for order prices:\n",
      "[414.275 830.3  ]\n"
     ]
    }
   ],
   "source": [
    "print('95th and 99th percentiles for order prices:')\n",
    "print(np.percentile(orders['revenue'], [95,99]))"
   ]
  },
  {
   "cell_type": "markdown",
   "metadata": {},
   "source": [
    "**Interpretation:** No more than 5% of users placed orders that cost more than \\\\$414, and no more than 1% of users placed orders that cost more than \\\\$830. The point at which a data point becomes an anomaly is when a user places an order that costs more than $830."
   ]
  },
  {
   "cell_type": "markdown",
   "metadata": {},
   "source": [
    "For our hypothesis test we have the following:\n",
    "\n",
    "$H_{0}$: The conversion in group A is equal to the conversion in group B using the raw data.\n",
    "<br>$H_{a}$: The conversion in group A is not equal to the conversion in group B using the raw data.\n",
    "<br>An alpha value of 0.05 was used since it is the most commonly used statistical significance level."
   ]
  },
  {
   "cell_type": "code",
   "execution_count": 20,
   "metadata": {},
   "outputs": [
    {
     "name": "stdout",
     "output_type": "stream",
     "text": [
      "Mann-Whitney test p-value:\n",
      "0.00551\n",
      "\n",
      "Relative conversion gain:\n",
      "0.160\n"
     ]
    }
   ],
   "source": [
    "# finding the statistical significance of the difference in conversion between the groups using the raw data\n",
    "ordersByUsersA = (\n",
    "    orders[orders['group'] == 'A']\n",
    "    .groupby('visitorId', as_index=False)\n",
    "    .agg({'transactionId': pd.Series.nunique})\n",
    ")\n",
    "ordersByUsersA.columns = ['userId', 'orders']\n",
    "\n",
    "ordersByUsersB = (\n",
    "    orders[orders['group'] == 'B']\n",
    "    .groupby('visitorId', as_index=False)\n",
    "    .agg({'transactionId': pd.Series.nunique})\n",
    ")\n",
    "ordersByUsersB.columns = ['userId', 'orders']\n",
    "\n",
    "sampleA = pd.concat(\n",
    "    [\n",
    "        ordersByUsersA['orders'],\n",
    "        pd.Series(\n",
    "            0,\n",
    "            index=np.arange(\n",
    "                visits[visits['group'] == 'A']['visits'].sum()\n",
    "                - len(ordersByUsersA['orders'])\n",
    "            ),\n",
    "            name='orders',\n",
    "        ),\n",
    "    ],\n",
    "    axis=0,\n",
    ")\n",
    "sampleB = pd.concat(\n",
    "    [\n",
    "        ordersByUsersB['orders'],\n",
    "        pd.Series(\n",
    "            0,\n",
    "            index=np.arange(\n",
    "                visits[visits['group'] == 'B']['visits'].sum()\n",
    "                - len(ordersByUsersB['orders'])\n",
    "            ),\n",
    "            name='orders',\n",
    "        ),\n",
    "    ],\n",
    "    axis=0,\n",
    ")\n",
    "\n",
    "print('Mann-Whitney test p-value:')\n",
    "print('{0:.5f}'.format(st.mannwhitneyu(sampleA, sampleB)[1]))\n",
    "print()\n",
    "print('Relative conversion gain:')\n",
    "print('{0:.3f}'.format(sampleB.mean() / sampleA.mean() - 1))"
   ]
  },
  {
   "cell_type": "markdown",
   "metadata": {},
   "source": [
    "**Interpretation:** With a p-value of 0.00551, which is less than 0.05, we reject the null hypothesis. The raw data analysis showed that the groups' conversion rates have statistically significant differences and are not equal to one another. The relative conversion gain for group B compared with group A is 16%."
   ]
  },
  {
   "cell_type": "markdown",
   "metadata": {},
   "source": [
    "For our hypothesis test we have the following:\n",
    "\n",
    "$H_{0}$: The average order size in group A is equal to the average order size in group B using the raw data.\n",
    "<br>$H_{a}$: The average order size in group A is not equal to the average order size in group B using the raw data.\n",
    "<br>An alpha value of 0.05 was used since it is the most commonly used statistical significance level."
   ]
  },
  {
   "cell_type": "code",
   "execution_count": 21,
   "metadata": {},
   "outputs": [
    {
     "name": "stdout",
     "output_type": "stream",
     "text": [
      "Mann-Whitney test p-value:\n",
      "0.431\n",
      "\n",
      "Relative difference:\n",
      "0.278\n"
     ]
    }
   ],
   "source": [
    "# finding the statistical significance of the difference in average order size between the groups using the raw data\n",
    "print('Mann-Whitney test p-value:')\n",
    "print(\n",
    "    '{0:.3f}'.format(\n",
    "        st.mannwhitneyu(\n",
    "            orders[orders['group'] == 'A']['revenue'],\n",
    "            orders[orders['group'] == 'B']['revenue'],\n",
    "        )[1]\n",
    "    )\n",
    ")\n",
    "print()\n",
    "print('Relative difference:')\n",
    "print(\n",
    "    '{0:.3f}'.format(\n",
    "        orders[orders['group'] == 'B']['revenue'].mean()\n",
    "        / orders[orders['group'] == 'A']['revenue'].mean()\n",
    "        - 1\n",
    "    )\n",
    ")"
   ]
  },
  {
   "cell_type": "markdown",
   "metadata": {},
   "source": [
    "**Interpretation:** With a p-value of 0.431, which is greater than 0.05, we fail to reject the null hypothesis. Therefore, there are no statistically significant differences between the groups' average order sizes. Moreover, the relative difference is 27.8%."
   ]
  },
  {
   "cell_type": "markdown",
   "metadata": {},
   "source": [
    "For our hypothesis test we have the following:\n",
    "\n",
    "$H_{0}$: The conversion in group A is equal to the conversion in group B using the filtered data.\n",
    "<br>$H_{a}$: The conversion in group A is not equal to the conversion in group B using the filtered data.\n",
    "<br>An alpha value of 0.05 was used since it is the most commonly used statistical significance level."
   ]
  },
  {
   "cell_type": "code",
   "execution_count": 22,
   "metadata": {},
   "outputs": [
    {
     "name": "stdout",
     "output_type": "stream",
     "text": [
      "Abnormal Users:\n",
      "1099    148427295 \n",
      "744     888512513 \n",
      "1103    1164614297\n",
      "1136    1307669133\n",
      "425     1920142716\n",
      "dtype: int64\n",
      "Mann-Whitney test p-value:\n",
      "0.00488\n",
      "\n",
      "Relative conversion gain (filtered data):\n",
      "0.163\n"
     ]
    }
   ],
   "source": [
    "# finding the statistical significance of the difference in conversion between the groups using the filtered data\n",
    "usersWithManyOrders = pd.concat(\n",
    "    [\n",
    "        ordersByUsersA[ordersByUsersA['orders'] > 3]['userId'],\n",
    "        ordersByUsersB[ordersByUsersB['orders'] > 3]['userId'],\n",
    "    ],\n",
    "    axis=0,\n",
    ")\n",
    "usersWithExpensiveOrders = orders[orders['revenue'] > 1000]['visitorId']\n",
    "abnormalUsers = (\n",
    "    pd.concat([usersWithManyOrders, usersWithExpensiveOrders], axis=0)\n",
    "    .drop_duplicates()\n",
    "    .sort_values()\n",
    ")\n",
    "print('Abnormal Users:')\n",
    "print(abnormalUsers.head())\n",
    "\n",
    "sampleAFiltered = pd.concat(\n",
    "    [\n",
    "        ordersByUsersA[\n",
    "            np.logical_not(ordersByUsersA['userId'].isin(abnormalUsers))\n",
    "        ]['orders'],\n",
    "        pd.Series(\n",
    "            0,\n",
    "            index=np.arange(\n",
    "                visits[visits['group'] == 'A']['visits'].sum()\n",
    "                - len(ordersByUsersA['orders'])\n",
    "            ),\n",
    "            name='orders',\n",
    "        ),\n",
    "    ],\n",
    "    axis=0,\n",
    ")\n",
    "\n",
    "sampleBFiltered = pd.concat(\n",
    "    [\n",
    "        ordersByUsersB[\n",
    "            np.logical_not(ordersByUsersB['userId'].isin(abnormalUsers))\n",
    "        ]['orders'],\n",
    "        pd.Series(\n",
    "            0,\n",
    "            index=np.arange(\n",
    "                visits[visits['group'] == 'B']['visits'].sum()\n",
    "                - len(ordersByUsersB['orders'])\n",
    "            ),\n",
    "            name='orders',\n",
    "        ),\n",
    "    ],\n",
    "    axis=0,\n",
    ")\n",
    "print('Mann-Whitney test p-value:')\n",
    "print(\n",
    "    \"{0:.5f}\".format(st.mannwhitneyu(sampleAFiltered, sampleBFiltered)[1])\n",
    ")\n",
    "print()\n",
    "print('Relative conversion gain (filtered data):')\n",
    "print(\"{0:.3f}\".format(sampleBFiltered.mean() / sampleAFiltered.mean() - 1))"
   ]
  },
  {
   "cell_type": "markdown",
   "metadata": {},
   "source": [
    "**Interpretation:** With a p-value of 0.00488, which is less than 0.05, we reject the null hypothesis. The filtered data analysis showed that the groups' conversion rates have statistically significant differences and is not equal to one another. The relative conversion gain (using the filtered data) for group B compared with group A is 16.3%."
   ]
  },
  {
   "cell_type": "markdown",
   "metadata": {},
   "source": [
    "For our hypothesis test we have the following:\n",
    "\n",
    "$H_{0}$: The average order size in group A is equal to the average order size in group B using the filtered data.\n",
    "<br>$H_{a}$: The average order size in group A is not equal to the average order size in group B using the filtered data.\n",
    "<br>An alpha value of 0.05 was used since it is the most commonly used statistical significance level."
   ]
  },
  {
   "cell_type": "code",
   "execution_count": 23,
   "metadata": {},
   "outputs": [
    {
     "name": "stdout",
     "output_type": "stream",
     "text": [
      "Mann-Whitney test p-value:\n",
      "0.464\n",
      "\n",
      "Relative difference (filtered data):\n",
      "-0.034\n"
     ]
    }
   ],
   "source": [
    "# finding the statistical significance of the difference in average order size between the groups using the filtered data\n",
    "print('Mann-Whitney test p-value:')\n",
    "print(\n",
    "    \"{0:.3f}\".format(\n",
    "        st.mannwhitneyu(\n",
    "            orders[\n",
    "                np.logical_and(\n",
    "                    orders['group'] == 'A',\n",
    "                    np.logical_not(orders['visitorId'].isin(abnormalUsers)),\n",
    "                )\n",
    "            ]['revenue'],\n",
    "            orders[\n",
    "                np.logical_and(\n",
    "                    orders['group'] == 'B',\n",
    "                    np.logical_not(orders['visitorId'].isin(abnormalUsers)),\n",
    "                )\n",
    "            ]['revenue'],\n",
    "        )[1]\n",
    "    )\n",
    ")\n",
    "print()\n",
    "print('Relative difference (filtered data):')\n",
    "print(\n",
    "    \"{0:.3f}\".format(\n",
    "        orders[\n",
    "            np.logical_and(\n",
    "                orders['group'] == 'B',\n",
    "                np.logical_not(orders['visitorId'].isin(abnormalUsers)),\n",
    "            )\n",
    "        ]['revenue'].mean()\n",
    "        / orders[\n",
    "            np.logical_and(\n",
    "                orders['group'] == 'A',\n",
    "                np.logical_not(orders['visitorId'].isin(abnormalUsers)),\n",
    "            )\n",
    "        ]['revenue'].mean()\n",
    "        - 1\n",
    "    )\n",
    ")"
   ]
  },
  {
   "cell_type": "markdown",
   "metadata": {},
   "source": [
    "**Interpretation:** With a p-value of 0.464, which is greater than 0.05, we fail to reject the null hypothesis. Therefore, there are no statistically significant differences between the groups' average order sizes after filtering the data. Moreover, the relative difference is 3.4%."
   ]
  },
  {
   "cell_type": "markdown",
   "metadata": {},
   "source": [
    "### Conclusion\n",
    "Based on the test results, the test should be stopped and group B should be considered the leader. To reiterate:\n",
    "+ Users in group B bring in the most money as compared to group A when looking at the cumulative revenue by group (Figure 2).\n",
    "+ The cumulative value of the groups' average purchase sizes fluctuates, however group B is shown to have the largest average order size (Figure 3).\n",
    "+ Group B has the greater conversion rate after gradually increasing and stabilizing at an almost steady value as compared to group A (Figure 5).\n",
    "+ Both the raw and filtered data indicate statistically significant differences between the groups with a relative conversion gain for group B, compared with group A, being 16% (raw) and 16.3% (filtered)."
   ]
  }
 ],
 "metadata": {
  "ExecuteTimeLog": [
   {
    "duration": 1728,
    "start_time": "2021-09-24T20:50:59.856Z"
   },
   {
    "duration": 35,
    "start_time": "2021-09-24T20:51:01.587Z"
   },
   {
    "duration": 38,
    "start_time": "2021-09-24T20:51:01.627Z"
   },
   {
    "duration": 40,
    "start_time": "2021-09-24T20:51:01.669Z"
   },
   {
    "duration": 39,
    "start_time": "2021-09-24T20:51:01.712Z"
   },
   {
    "duration": 19,
    "start_time": "2021-09-24T20:51:01.754Z"
   },
   {
    "duration": 46,
    "start_time": "2021-09-24T20:51:01.776Z"
   },
   {
    "duration": 51,
    "start_time": "2021-09-24T20:51:01.827Z"
   },
   {
    "duration": 7135,
    "start_time": "2021-09-24T20:51:01.881Z"
   },
   {
    "duration": 355,
    "start_time": "2021-09-24T20:51:09.020Z"
   },
   {
    "duration": 456,
    "start_time": "2021-09-24T20:51:09.378Z"
   },
   {
    "duration": 358,
    "start_time": "2021-09-24T20:51:09.836Z"
   },
   {
    "duration": 685,
    "start_time": "2021-09-24T20:51:10.197Z"
   },
   {
    "duration": 6,
    "start_time": "2021-09-24T20:51:10.884Z"
   },
   {
    "duration": 441,
    "start_time": "2021-09-24T20:51:10.892Z"
   },
   {
    "duration": 6,
    "start_time": "2021-09-24T20:51:11.335Z"
   },
   {
    "duration": 287,
    "start_time": "2021-09-24T20:51:11.343Z"
   },
   {
    "duration": 16,
    "start_time": "2021-09-24T20:51:11.632Z"
   },
   {
    "duration": 33,
    "start_time": "2021-09-24T20:51:11.667Z"
   },
   {
    "duration": 22,
    "start_time": "2021-09-24T20:51:11.703Z"
   },
   {
    "duration": 138,
    "start_time": "2021-09-24T22:03:07.264Z"
   },
   {
    "duration": 1570,
    "start_time": "2021-09-30T02:27:23.519Z"
   },
   {
    "duration": 21,
    "start_time": "2021-09-30T02:27:25.092Z"
   },
   {
    "duration": 20,
    "start_time": "2021-09-30T02:27:25.116Z"
   },
   {
    "duration": 26,
    "start_time": "2021-09-30T02:27:25.139Z"
   },
   {
    "duration": 15,
    "start_time": "2021-09-30T02:27:25.168Z"
   },
   {
    "duration": 11,
    "start_time": "2021-09-30T02:27:25.185Z"
   },
   {
    "duration": 10,
    "start_time": "2021-09-30T02:27:25.199Z"
   },
   {
    "duration": 6,
    "start_time": "2021-09-30T02:27:25.258Z"
   },
   {
    "duration": 23,
    "start_time": "2021-09-30T02:27:25.267Z"
   },
   {
    "duration": 18,
    "start_time": "2021-09-30T02:27:25.293Z"
   },
   {
    "duration": 475,
    "start_time": "2021-09-30T02:27:25.313Z"
   },
   {
    "duration": 5122,
    "start_time": "2021-09-30T02:27:25.791Z"
   },
   {
    "duration": 342,
    "start_time": "2021-09-30T02:27:30.915Z"
   },
   {
    "duration": 410,
    "start_time": "2021-09-30T02:27:31.260Z"
   },
   {
    "duration": 393,
    "start_time": "2021-09-30T02:27:31.672Z"
   },
   {
    "duration": 595,
    "start_time": "2021-09-30T02:27:32.067Z"
   },
   {
    "duration": 5,
    "start_time": "2021-09-30T02:27:32.664Z"
   },
   {
    "duration": 389,
    "start_time": "2021-09-30T02:27:32.672Z"
   },
   {
    "duration": 5,
    "start_time": "2021-09-30T02:27:33.064Z"
   },
   {
    "duration": 241,
    "start_time": "2021-09-30T02:27:33.071Z"
   },
   {
    "duration": 15,
    "start_time": "2021-09-30T02:27:33.314Z"
   },
   {
    "duration": 49,
    "start_time": "2021-09-30T02:27:33.331Z"
   },
   {
    "duration": 20,
    "start_time": "2021-09-30T02:27:33.384Z"
   },
   {
    "duration": 794,
    "start_time": "2021-09-30T15:31:30.769Z"
   },
   {
    "duration": 1094,
    "start_time": "2021-09-30T15:31:34.358Z"
   },
   {
    "duration": 15,
    "start_time": "2021-09-30T15:31:35.454Z"
   },
   {
    "duration": 14,
    "start_time": "2021-09-30T15:31:35.471Z"
   },
   {
    "duration": 11,
    "start_time": "2021-09-30T15:31:35.487Z"
   },
   {
    "duration": 11,
    "start_time": "2021-09-30T15:31:35.500Z"
   },
   {
    "duration": 9,
    "start_time": "2021-09-30T15:31:35.513Z"
   },
   {
    "duration": 7,
    "start_time": "2021-09-30T15:31:35.524Z"
   },
   {
    "duration": 5,
    "start_time": "2021-09-30T15:31:35.533Z"
   },
   {
    "duration": 22,
    "start_time": "2021-09-30T15:31:35.540Z"
   },
   {
    "duration": 39,
    "start_time": "2021-09-30T15:31:35.564Z"
   },
   {
    "duration": 352,
    "start_time": "2021-09-30T15:31:35.605Z"
   },
   {
    "duration": 3090,
    "start_time": "2021-09-30T15:31:35.959Z"
   },
   {
    "duration": 222,
    "start_time": "2021-09-30T15:31:39.051Z"
   },
   {
    "duration": 337,
    "start_time": "2021-09-30T15:31:39.275Z"
   },
   {
    "duration": 265,
    "start_time": "2021-09-30T15:31:39.614Z"
   },
   {
    "duration": 381,
    "start_time": "2021-09-30T15:31:39.881Z"
   },
   {
    "duration": 103,
    "start_time": "2021-09-30T15:31:40.263Z"
   },
   {
    "duration": 103,
    "start_time": "2021-09-30T15:31:44.369Z"
   },
   {
    "duration": 97,
    "start_time": "2021-09-30T15:31:55.362Z"
   },
   {
    "duration": 11,
    "start_time": "2021-09-30T15:35:34.919Z"
   },
   {
    "duration": 232,
    "start_time": "2021-09-30T15:35:57.472Z"
   },
   {
    "duration": 178,
    "start_time": "2021-09-30T15:36:04.991Z"
   },
   {
    "duration": 178,
    "start_time": "2021-09-30T15:36:19.500Z"
   },
   {
    "duration": 13,
    "start_time": "2021-09-30T15:36:45.021Z"
   },
   {
    "duration": 69,
    "start_time": "2021-09-30T15:37:41.961Z"
   },
   {
    "duration": 11,
    "start_time": "2021-09-30T15:37:42.032Z"
   },
   {
    "duration": 13,
    "start_time": "2021-09-30T15:37:42.046Z"
   },
   {
    "duration": 12,
    "start_time": "2021-09-30T15:37:42.062Z"
   },
   {
    "duration": 11,
    "start_time": "2021-09-30T15:37:42.075Z"
   },
   {
    "duration": 7,
    "start_time": "2021-09-30T15:37:42.100Z"
   },
   {
    "duration": 7,
    "start_time": "2021-09-30T15:37:42.109Z"
   },
   {
    "duration": 4,
    "start_time": "2021-09-30T15:37:42.119Z"
   },
   {
    "duration": 14,
    "start_time": "2021-09-30T15:37:42.125Z"
   },
   {
    "duration": 14,
    "start_time": "2021-09-30T15:37:58.878Z"
   },
   {
    "duration": 68,
    "start_time": "2021-09-30T15:38:52.275Z"
   },
   {
    "duration": 11,
    "start_time": "2021-09-30T15:38:52.345Z"
   },
   {
    "duration": 14,
    "start_time": "2021-09-30T15:38:52.358Z"
   },
   {
    "duration": 11,
    "start_time": "2021-09-30T15:38:52.373Z"
   },
   {
    "duration": 15,
    "start_time": "2021-09-30T15:38:52.385Z"
   },
   {
    "duration": 8,
    "start_time": "2021-09-30T15:38:52.401Z"
   },
   {
    "duration": 4,
    "start_time": "2021-09-30T15:38:52.410Z"
   },
   {
    "duration": 4,
    "start_time": "2021-09-30T15:38:52.416Z"
   },
   {
    "duration": 14,
    "start_time": "2021-09-30T15:38:52.422Z"
   },
   {
    "duration": 10,
    "start_time": "2021-09-30T15:38:52.438Z"
   },
   {
    "duration": 48,
    "start_time": "2021-09-30T15:39:41.381Z"
   },
   {
    "duration": 69,
    "start_time": "2021-09-30T15:39:51.894Z"
   },
   {
    "duration": 11,
    "start_time": "2021-09-30T15:39:51.965Z"
   },
   {
    "duration": 19,
    "start_time": "2021-09-30T15:39:51.978Z"
   },
   {
    "duration": 16,
    "start_time": "2021-09-30T15:39:51.999Z"
   },
   {
    "duration": 11,
    "start_time": "2021-09-30T15:39:52.016Z"
   },
   {
    "duration": 6,
    "start_time": "2021-09-30T15:39:52.029Z"
   },
   {
    "duration": 4,
    "start_time": "2021-09-30T15:39:52.036Z"
   },
   {
    "duration": 6,
    "start_time": "2021-09-30T15:39:52.042Z"
   },
   {
    "duration": 15,
    "start_time": "2021-09-30T15:39:52.050Z"
   },
   {
    "duration": 36,
    "start_time": "2021-09-30T15:39:52.067Z"
   },
   {
    "duration": 15,
    "start_time": "2021-09-30T15:42:01.499Z"
   },
   {
    "duration": 68,
    "start_time": "2021-09-30T15:42:06.370Z"
   },
   {
    "duration": 11,
    "start_time": "2021-09-30T15:42:06.439Z"
   },
   {
    "duration": 18,
    "start_time": "2021-09-30T15:42:06.453Z"
   },
   {
    "duration": 12,
    "start_time": "2021-09-30T15:42:06.474Z"
   },
   {
    "duration": 18,
    "start_time": "2021-09-30T15:42:06.488Z"
   },
   {
    "duration": 8,
    "start_time": "2021-09-30T15:42:06.508Z"
   },
   {
    "duration": 11,
    "start_time": "2021-09-30T15:42:06.517Z"
   },
   {
    "duration": 5,
    "start_time": "2021-09-30T15:42:06.530Z"
   },
   {
    "duration": 16,
    "start_time": "2021-09-30T15:42:06.537Z"
   },
   {
    "duration": 11,
    "start_time": "2021-09-30T15:42:06.555Z"
   },
   {
    "duration": 363,
    "start_time": "2021-09-30T15:42:06.568Z"
   },
   {
    "duration": 3197,
    "start_time": "2021-09-30T15:42:06.932Z"
   },
   {
    "duration": 220,
    "start_time": "2021-09-30T15:42:10.131Z"
   },
   {
    "duration": 300,
    "start_time": "2021-09-30T15:42:10.352Z"
   },
   {
    "duration": 229,
    "start_time": "2021-09-30T15:42:10.653Z"
   },
   {
    "duration": 428,
    "start_time": "2021-09-30T15:42:10.883Z"
   },
   {
    "duration": 11,
    "start_time": "2021-09-30T15:42:11.312Z"
   },
   {
    "duration": 4,
    "start_time": "2021-09-30T15:42:11.325Z"
   },
   {
    "duration": 310,
    "start_time": "2021-09-30T15:42:11.330Z"
   },
   {
    "duration": 5,
    "start_time": "2021-09-30T15:42:11.641Z"
   },
   {
    "duration": 204,
    "start_time": "2021-09-30T15:42:11.647Z"
   },
   {
    "duration": 10,
    "start_time": "2021-09-30T15:42:11.852Z"
   },
   {
    "duration": 44,
    "start_time": "2021-09-30T15:42:11.865Z"
   },
   {
    "duration": 14,
    "start_time": "2021-09-30T15:42:11.911Z"
   },
   {
    "duration": 1261,
    "start_time": "2021-09-30T21:22:24.505Z"
   },
   {
    "duration": 16,
    "start_time": "2021-09-30T21:22:31.519Z"
   },
   {
    "duration": 14,
    "start_time": "2021-09-30T21:22:33.950Z"
   },
   {
    "duration": 12,
    "start_time": "2021-09-30T21:22:36.343Z"
   },
   {
    "duration": 22,
    "start_time": "2021-09-30T21:22:40.175Z"
   },
   {
    "duration": 10,
    "start_time": "2021-09-30T21:22:43.870Z"
   },
   {
    "duration": 14,
    "start_time": "2021-09-30T21:23:07.428Z"
   },
   {
    "duration": 12,
    "start_time": "2021-09-30T21:23:26.936Z"
   },
   {
    "duration": 1306,
    "start_time": "2021-09-30T21:24:25.055Z"
   },
   {
    "duration": 17,
    "start_time": "2021-09-30T21:24:26.364Z"
   },
   {
    "duration": 22,
    "start_time": "2021-09-30T21:24:26.384Z"
   },
   {
    "duration": 12,
    "start_time": "2021-09-30T21:24:26.408Z"
   },
   {
    "duration": 12,
    "start_time": "2021-09-30T21:24:26.422Z"
   },
   {
    "duration": 52,
    "start_time": "2021-09-30T21:24:26.436Z"
   },
   {
    "duration": 11,
    "start_time": "2021-09-30T21:24:26.490Z"
   },
   {
    "duration": 6,
    "start_time": "2021-09-30T21:24:26.504Z"
   },
   {
    "duration": 16,
    "start_time": "2021-09-30T21:24:26.512Z"
   },
   {
    "duration": 46,
    "start_time": "2021-09-30T21:24:26.530Z"
   },
   {
    "duration": 352,
    "start_time": "2021-09-30T21:24:26.579Z"
   },
   {
    "duration": 4270,
    "start_time": "2021-09-30T21:24:26.932Z"
   },
   {
    "duration": 241,
    "start_time": "2021-09-30T21:24:31.205Z"
   },
   {
    "duration": 366,
    "start_time": "2021-09-30T21:24:31.448Z"
   },
   {
    "duration": 299,
    "start_time": "2021-09-30T21:24:31.816Z"
   },
   {
    "duration": 444,
    "start_time": "2021-09-30T21:24:32.117Z"
   },
   {
    "duration": 5,
    "start_time": "2021-09-30T21:24:32.563Z"
   },
   {
    "duration": 348,
    "start_time": "2021-09-30T21:24:32.578Z"
   },
   {
    "duration": 5,
    "start_time": "2021-09-30T21:24:32.928Z"
   },
   {
    "duration": 137,
    "start_time": "2021-09-30T21:24:32.934Z"
   },
   {
    "duration": 16,
    "start_time": "2021-09-30T21:24:33.073Z"
   },
   {
    "duration": 77,
    "start_time": "2021-09-30T21:24:33.091Z"
   },
   {
    "duration": 30,
    "start_time": "2021-09-30T21:24:33.171Z"
   },
   {
    "duration": 365,
    "start_time": "2021-09-30T21:29:01.467Z"
   },
   {
    "duration": 4462,
    "start_time": "2021-09-30T21:42:25.253Z"
   },
   {
    "duration": 15,
    "start_time": "2021-09-30T21:42:29.717Z"
   },
   {
    "duration": 13,
    "start_time": "2021-09-30T21:42:29.734Z"
   },
   {
    "duration": 11,
    "start_time": "2021-09-30T21:42:29.749Z"
   },
   {
    "duration": 11,
    "start_time": "2021-09-30T21:42:29.762Z"
   },
   {
    "duration": 9,
    "start_time": "2021-09-30T21:42:29.775Z"
   },
   {
    "duration": 10,
    "start_time": "2021-09-30T21:42:29.785Z"
   },
   {
    "duration": 4,
    "start_time": "2021-09-30T21:42:29.798Z"
   },
   {
    "duration": 17,
    "start_time": "2021-09-30T21:42:29.804Z"
   },
   {
    "duration": 11,
    "start_time": "2021-09-30T21:42:29.822Z"
   },
   {
    "duration": 371,
    "start_time": "2021-09-30T21:42:29.835Z"
   },
   {
    "duration": 3544,
    "start_time": "2021-09-30T21:42:30.208Z"
   },
   {
    "duration": 222,
    "start_time": "2021-09-30T21:42:33.754Z"
   },
   {
    "duration": 318,
    "start_time": "2021-09-30T21:42:33.978Z"
   },
   {
    "duration": 282,
    "start_time": "2021-09-30T21:42:34.299Z"
   },
   {
    "duration": 429,
    "start_time": "2021-09-30T21:42:34.583Z"
   },
   {
    "duration": 5,
    "start_time": "2021-09-30T21:42:35.013Z"
   },
   {
    "duration": 309,
    "start_time": "2021-09-30T21:42:35.020Z"
   },
   {
    "duration": 5,
    "start_time": "2021-09-30T21:42:35.330Z"
   },
   {
    "duration": 133,
    "start_time": "2021-09-30T21:42:35.337Z"
   },
   {
    "duration": 14,
    "start_time": "2021-09-30T21:42:35.477Z"
   },
   {
    "duration": 24,
    "start_time": "2021-09-30T21:42:35.494Z"
   },
   {
    "duration": 18,
    "start_time": "2021-09-30T21:42:35.522Z"
   },
   {
    "duration": 307,
    "start_time": "2021-09-30T21:44:50.018Z"
   },
   {
    "duration": 1523,
    "start_time": "2021-10-01T20:01:53.784Z"
   },
   {
    "duration": 23,
    "start_time": "2021-10-01T20:01:55.310Z"
   },
   {
    "duration": 33,
    "start_time": "2021-10-01T20:01:55.336Z"
   },
   {
    "duration": 22,
    "start_time": "2021-10-01T20:01:55.373Z"
   },
   {
    "duration": 17,
    "start_time": "2021-10-01T20:01:55.399Z"
   },
   {
    "duration": 51,
    "start_time": "2021-10-01T20:01:55.419Z"
   },
   {
    "duration": 35,
    "start_time": "2021-10-01T20:01:55.473Z"
   },
   {
    "duration": 21,
    "start_time": "2021-10-01T20:01:55.512Z"
   },
   {
    "duration": 38,
    "start_time": "2021-10-01T20:01:55.536Z"
   },
   {
    "duration": 29,
    "start_time": "2021-10-01T20:01:55.576Z"
   },
   {
    "duration": 487,
    "start_time": "2021-10-01T20:01:55.607Z"
   },
   {
    "duration": 6099,
    "start_time": "2021-10-01T20:01:56.096Z"
   },
   {
    "duration": 455,
    "start_time": "2021-10-01T20:02:02.199Z"
   },
   {
    "duration": 439,
    "start_time": "2021-10-01T20:02:02.657Z"
   },
   {
    "duration": 417,
    "start_time": "2021-10-01T20:02:03.099Z"
   },
   {
    "duration": 619,
    "start_time": "2021-10-01T20:02:03.519Z"
   },
   {
    "duration": 6,
    "start_time": "2021-10-01T20:02:04.140Z"
   },
   {
    "duration": 488,
    "start_time": "2021-10-01T20:02:04.148Z"
   },
   {
    "duration": 8,
    "start_time": "2021-10-01T20:02:04.639Z"
   },
   {
    "duration": 285,
    "start_time": "2021-10-01T20:02:04.659Z"
   },
   {
    "duration": 16,
    "start_time": "2021-10-01T20:02:04.960Z"
   },
   {
    "duration": 32,
    "start_time": "2021-10-01T20:02:04.979Z"
   },
   {
    "duration": 57,
    "start_time": "2021-10-01T20:02:05.016Z"
   }
  ],
  "hide_input": false,
  "kernelspec": {
   "display_name": "Python 3",
   "language": "python",
   "name": "python3"
  },
  "language_info": {
   "codemirror_mode": {
    "name": "ipython",
    "version": 3
   },
   "file_extension": ".py",
   "mimetype": "text/x-python",
   "name": "python",
   "nbconvert_exporter": "python",
   "pygments_lexer": "ipython3",
   "version": "3.8.5"
  },
  "toc": {
   "base_numbering": 1,
   "nav_menu": {},
   "number_sections": true,
   "sideBar": true,
   "skip_h1_title": true,
   "title_cell": "Table of Contents",
   "title_sidebar": "Contents",
   "toc_cell": false,
   "toc_position": {},
   "toc_section_display": true,
   "toc_window_display": true
  }
 },
 "nbformat": 4,
 "nbformat_minor": 4
}
